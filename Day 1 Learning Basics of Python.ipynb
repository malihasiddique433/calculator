{
  "nbformat": 4,
  "nbformat_minor": 0,
  "metadata": {
    "colab": {
      "provenance": [],
      "toc_visible": true,
      "authorship_tag": "ABX9TyPtK7tl6NU0+kPfcfEladkB",
      "include_colab_link": true
    },
    "kernelspec": {
      "name": "python3",
      "display_name": "Python 3"
    },
    "language_info": {
      "name": "python"
    }
  },
  "cells": [
    {
      "cell_type": "markdown",
      "metadata": {
        "id": "view-in-github",
        "colab_type": "text"
      },
      "source": [
        "<a href=\"https://colab.research.google.com/github/malihasiddique433/calculator/blob/master/Day%201%20Learning%20Basics%20of%20Python.ipynb\" target=\"_parent\"><img src=\"https://colab.research.google.com/assets/colab-badge.svg\" alt=\"Open In Colab\"/></a>"
      ]
    },
    {
      "cell_type": "markdown",
      "source": [
        "# **VARIABLE NAMING 1**"
      ],
      "metadata": {
        "id": "qejOsYPGwmVk"
      }
    },
    {
      "cell_type": "code",
      "source": [
        "# Right Variable Declaration\n",
        "name_students = 25\n"
      ],
      "metadata": {
        "id": "GdO9i23eydcL"
      },
      "execution_count": 43,
      "outputs": []
    },
    {
      "cell_type": "code",
      "source": [
        "total_sales = 1000.50"
      ],
      "metadata": {
        "id": "uG1wShBSz-I0"
      },
      "execution_count": 44,
      "outputs": []
    },
    {
      "cell_type": "code",
      "source": [
        "student_name = \"AI\""
      ],
      "metadata": {
        "id": "jk1G1QUQ0IeE"
      },
      "execution_count": 45,
      "outputs": []
    },
    {
      "cell_type": "code",
      "source": [
        "# Print Variable Values\n",
        "print(name_students)"
      ],
      "metadata": {
        "colab": {
          "base_uri": "https://localhost:8080/"
        },
        "id": "Ns8RfGKr0rkJ",
        "outputId": "8e1b388c-c272-461a-9f04-a45fe2f189e7"
      },
      "execution_count": 46,
      "outputs": [
        {
          "output_type": "stream",
          "name": "stdout",
          "text": [
            "25\n"
          ]
        }
      ]
    },
    {
      "cell_type": "code",
      "source": [
        "# Print Total Sales\n",
        "print(total_sales)"
      ],
      "metadata": {
        "colab": {
          "base_uri": "https://localhost:8080/"
        },
        "id": "rY9WS0En-xOp",
        "outputId": "7f46f08f-75d8-4d5f-ed9c-2a40fd1bc974"
      },
      "execution_count": 47,
      "outputs": [
        {
          "output_type": "stream",
          "name": "stdout",
          "text": [
            "1000.5\n"
          ]
        }
      ]
    },
    {
      "cell_type": "code",
      "source": [
        "# Print Student Case\n",
        "print(student_name)"
      ],
      "metadata": {
        "colab": {
          "base_uri": "https://localhost:8080/"
        },
        "id": "5G0gwoZrAKvB",
        "outputId": "552cfd22-8b43-442c-9945-2e8819f73a17"
      },
      "execution_count": 48,
      "outputs": [
        {
          "output_type": "stream",
          "name": "stdout",
          "text": [
            "AI\n"
          ]
        }
      ]
    },
    {
      "cell_type": "code",
      "source": [
        "# Wrong Declaration of Variable\n",
        "2nd_student= \"Alice\""
      ],
      "metadata": {
        "colab": {
          "base_uri": "https://localhost:8080/",
          "height": 106
        },
        "id": "yHDux09s_zfC",
        "outputId": "2c5afa0e-8a09-4314-c1b7-7df37451b529"
      },
      "execution_count": 49,
      "outputs": [
        {
          "output_type": "error",
          "ename": "SyntaxError",
          "evalue": "invalid decimal literal (ipython-input-1335536631.py, line 2)",
          "traceback": [
            "\u001b[0;36m  File \u001b[0;32m\"/tmp/ipython-input-1335536631.py\"\u001b[0;36m, line \u001b[0;32m2\u001b[0m\n\u001b[0;31m    2nd_student= \"Alice\"\u001b[0m\n\u001b[0m    ^\u001b[0m\n\u001b[0;31mSyntaxError\u001b[0m\u001b[0;31m:\u001b[0m invalid decimal literal\n"
          ]
        }
      ]
    },
    {
      "cell_type": "code",
      "source": [
        "int num=100\n"
      ],
      "metadata": {
        "id": "uFo64D44HaNS"
      },
      "execution_count": null,
      "outputs": []
    },
    {
      "cell_type": "markdown",
      "source": [
        "**OPERATORS**"
      ],
      "metadata": {
        "id": "w5191k61JKP5"
      }
    },
    {
      "cell_type": "code",
      "source": [
        "1. (+) addition\n",
        "2. (-) subtraction\n",
        "3. (/) division\n",
        "4. (**) Exponantiation Power\n",
        "5. (%) Modulus (reminder after division)\n",
        "6. Comparison operators are discussed later\n",
        "7. Python has incorporated operators like +*,but ++(or-) donot work in Python\n"
      ],
      "metadata": {
        "id": "wwNRw4i4JPCh"
      },
      "execution_count": null,
      "outputs": []
    },
    {
      "cell_type": "code",
      "source": [
        "#Multiply two Number\n",
        "print(3*4)"
      ],
      "metadata": {
        "colab": {
          "base_uri": "https://localhost:8080/"
        },
        "id": "_euLhQY-K2E8",
        "outputId": "9a8639eb-30e2-44e2-c268-d440eeafd62d"
      },
      "execution_count": 50,
      "outputs": [
        {
          "output_type": "stream",
          "name": "stdout",
          "text": [
            "12\n"
          ]
        }
      ]
    },
    {
      "cell_type": "code",
      "source": [
        "#Display square of Number\n",
        "print(3**2)"
      ],
      "metadata": {
        "colab": {
          "base_uri": "https://localhost:8080/"
        },
        "id": "ZTneNPExK-AY",
        "outputId": "600f53d1-da72-4539-fcd7-be615188b2cf"
      },
      "execution_count": 51,
      "outputs": [
        {
          "output_type": "stream",
          "name": "stdout",
          "text": [
            "9\n"
          ]
        }
      ]
    },
    {
      "cell_type": "code",
      "source": [
        "# Calculate the remainder\n",
        "print(16%5)"
      ],
      "metadata": {
        "colab": {
          "base_uri": "https://localhost:8080/"
        },
        "id": "zZ_m9sOuLOU-",
        "outputId": "293e85d1-e7f2-4f83-e8e9-c1cad278aad3"
      },
      "execution_count": 52,
      "outputs": [
        {
          "output_type": "stream",
          "name": "stdout",
          "text": [
            "1\n"
          ]
        }
      ]
    },
    {
      "cell_type": "code",
      "source": [
        "# Divide two number\n",
        "a = 5.0/10.0\n",
        "print(a)\n"
      ],
      "metadata": {
        "colab": {
          "base_uri": "https://localhost:8080/"
        },
        "id": "cFAZiHxMMCtu",
        "outputId": "3bcf5cb2-63e0-4eaf-df88-a8a5b3e3ad9a"
      },
      "execution_count": 56,
      "outputs": [
        {
          "output_type": "stream",
          "name": "stdout",
          "text": [
            "0.5\n"
          ]
        }
      ]
    },
    {
      "cell_type": "code",
      "source": [
        "# Calculate the two quotient\n",
        "b=11//4\n",
        "print(b)"
      ],
      "metadata": {
        "colab": {
          "base_uri": "https://localhost:8080/"
        },
        "id": "SB5rLoYYMa-Y",
        "outputId": "0ec0fb1b-ff1c-4f4d-d1e3-2ef2e2df8847"
      },
      "execution_count": 57,
      "outputs": [
        {
          "output_type": "stream",
          "name": "stdout",
          "text": [
            "2\n"
          ]
        }
      ]
    },
    {
      "cell_type": "markdown",
      "source": [
        "# **Simple Program to Calculate Area of Rectangle**\n",
        "\n",
        "area of rectangle= length*height\n"
      ],
      "metadata": {
        "id": "nAHz5Xm3N239"
      }
    },
    {
      "cell_type": "code",
      "source": [
        "length= 2.5\n",
        "height= 3.5\n",
        "area=length*height\n",
        "print(area)"
      ],
      "metadata": {
        "colab": {
          "base_uri": "https://localhost:8080/"
        },
        "id": "H78-9zRNOG9S",
        "outputId": "b5093330-d651-47a1-aaf1-1b121eda34a0"
      },
      "execution_count": 58,
      "outputs": [
        {
          "output_type": "stream",
          "name": "stdout",
          "text": [
            "8.75\n"
          ]
        }
      ]
    },
    {
      "cell_type": "markdown",
      "source": [
        "# **Adding two Integer**"
      ],
      "metadata": {
        "id": "RUmVm0bBOXMZ"
      }
    },
    {
      "cell_type": "code",
      "source": [
        "num1 = 5\n",
        "num2 = 2\n",
        "sum= num1 + num2\n",
        "print(sum)"
      ],
      "metadata": {
        "colab": {
          "base_uri": "https://localhost:8080/"
        },
        "id": "Td7KzxDlOlHP",
        "outputId": "06d65f7f-423f-4c96-c835-6eaf000c30dc"
      },
      "execution_count": 60,
      "outputs": [
        {
          "output_type": "stream",
          "name": "stdout",
          "text": [
            "7\n"
          ]
        }
      ]
    },
    {
      "cell_type": "markdown",
      "source": [
        "# **Task - 02**\n",
        "1. Create a simple python program to swap variables using\n",
        "three variables\n",
        "2. Create a simple python pogram to swap variables using\n",
        "two variables\n"
      ],
      "metadata": {
        "id": "HffDzZ-yO8El"
      }
    },
    {
      "cell_type": "code",
      "source": [
        "#Initialize three variables\n",
        "a=10\n",
        "b=20\n",
        "c=30\n",
        "print(f\"before swapping: a = {a}, b = {b}, c = {c}\")\n",
        "\n",
        "# Use a temporary variable to facilitate the swap\n",
        "temp = a  # Store the original value of 'a' in 'temp'\n",
        "a = c     # Assign the value of 'c' to 'a'\n",
        "c = b     # Assign the value of 'b' to 'c'\n",
        "b = temp\n",
        "print(f\"After swapping: a = {a}, b = {b}, c = {c}\")"
      ],
      "metadata": {
        "colab": {
          "base_uri": "https://localhost:8080/"
        },
        "id": "uDol3p3EPqxB",
        "outputId": "5aad2778-ddf3-4f2f-c0e4-4c2cc9b19c66"
      },
      "execution_count": 62,
      "outputs": [
        {
          "output_type": "stream",
          "name": "stdout",
          "text": [
            "before swapping: a = 10, b = 20, c = 30\n",
            "After swapping: a = 30, b = 10, c = 20\n"
          ]
        }
      ]
    },
    {
      "cell_type": "code",
      "source": [
        "## Next Level Program\n",
        "# Initialize two variables\n",
        "var1 = 10\n",
        "var2 = 20\n",
        "\n",
        "print(f\"Before swapping: var1 = {var1}, var2 = {var2}\")\n",
        "\n",
        "# Swap the variables using tuple assignment\n",
        "var1, var2 = var2, var1\n",
        "\n",
        "print(f\"After swapping: var1 = {var1}, var2 = {var2}\")"
      ],
      "metadata": {
        "id": "8hTKBrezRrc2"
      },
      "execution_count": null,
      "outputs": []
    },
    {
      "cell_type": "code",
      "source": [
        "# Initialize two variables\n",
        "variable_a = 5\n",
        "variable_b = 10\n",
        "\n",
        "print(f\"Before swapping: variable_a = {variable_a}, variable_b = {variable_b}\")\n",
        "\n",
        "# Use a temporary variable to swap the values\n",
        "temp = variable_a\n",
        "variable_a = variable_b\n",
        "variable_b = temp\n",
        "\n",
        "print(f\"After swapping: variable_a = {variable_a}, variable_b = {variable_b}\")"
      ],
      "metadata": {
        "id": "_NBYRSygSAy1"
      },
      "execution_count": null,
      "outputs": []
    }
  ]
}